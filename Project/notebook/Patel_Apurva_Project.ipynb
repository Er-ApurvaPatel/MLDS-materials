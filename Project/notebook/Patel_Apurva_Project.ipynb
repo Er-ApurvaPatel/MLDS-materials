{
 "cells": [
  {
   "cell_type": "markdown",
   "id": "bc09aa4d",
   "metadata": {},
   "source": [
    "Name: Apurva Hiteshkumar Patel\n",
    "\n",
    "USC ID: 8089630531\n",
    "\n",
    "Github Username: Apurva-H-Patel"
   ]
  },
  {
   "cell_type": "markdown",
   "id": "2a6b6e87",
   "metadata": {},
   "source": [
    "## Import required libraries"
   ]
  },
  {
   "cell_type": "code",
   "execution_count": 1,
   "id": "3966d921",
   "metadata": {},
   "outputs": [
    {
     "name": "stdout",
     "output_type": "stream",
     "text": [
      "Keras Version 2.7.0\n",
      "Tensor Flow version 2.7.0\n"
     ]
    }
   ],
   "source": [
    "import shutil\n",
    "import keras\n",
    "import tensorflow as tf\n",
    "import seaborn as sns\n",
    "import matplotlib.pyplot as plt\n",
    "import cv2\n",
    "import numpy as np\n",
    "import pandas as pd\n",
    "import os\n",
    "import warnings\n",
    "warnings.filterwarnings('always') \n",
    "\n",
    "from sklearn.metrics import classification_report\n",
    "from sklearn.metrics import confusion_matrix\n",
    "\n",
    "\n",
    "from keras.preprocessing import image\n",
    "from keras.preprocessing.image import ImageDataGenerator\n",
    "from keras.models import Sequential, load_model\n",
    "from keras.layers import Conv2D\n",
    "from keras.layers import BatchNormalization\n",
    "from keras.layers import Activation\n",
    "from keras.layers import MaxPooling2D\n",
    "from keras.layers import GlobalAveragePooling2D\n",
    "from keras.layers import Dropout\n",
    "from keras.layers import Flatten\n",
    "from keras.layers import Dense\n",
    "from tensorflow.keras.applications import ResNet50\n",
    "from tensorflow.keras.applications import EfficientNetB0\n",
    "from tensorflow.keras.applications.vgg16 import VGG16\n",
    "from keras.applications.vgg16 import preprocess_input\n",
    "from keras.applications.efficientnet import preprocess_input\n",
    "\n",
    "from tensorflow.keras.preprocessing.image import ImageDataGenerator\n",
    "from tensorflow.keras.preprocessing.image import ImageDataGenerator\n",
    "from tensorflow.keras.applications.inception_v3 import preprocess_input\n",
    "\n",
    "from tensorflow.keras.callbacks import ModelCheckpoint\n",
    "from tensorflow.keras import layers,models, regularizers, callbacks\n",
    "\n",
    "print('Keras Version', keras.__version__)\n",
    "print('Tensor Flow version',tf.__version__)"
   ]
  },
  {
   "cell_type": "markdown",
   "id": "ed3d8d97",
   "metadata": {},
   "source": [
    "### 1. Identification of Frost in Martian HiRISE Images\n",
    "\n",
    "It is highly recommended that you complete this project using Keras2 and Python."
   ]
  },
  {
   "cell_type": "markdown",
   "id": "0156a74b",
   "metadata": {},
   "source": [
    "#### (a) In this problem, we are trying to build a classifier that distinguishes images of Martian terrain with frost. You can \f",
    "\n",
    "nd the dataset in https://dataverse.jpl.nasa.gov/dataset.xhtml?persistentId=doi:10.48577/jpl.QJ9PYA.\n",
    "This dataset was created to study Mars' seasonal frost cycle and its role in the\n",
    "planet's climate and surface evolution over the past 2 billion years. The data helps\n",
    "in identifying low-latitude frosted microclimates and their impact on climate."
   ]
  },
  {
   "cell_type": "markdown",
   "id": "dcea23eb",
   "metadata": {},
   "source": [
    "#### (b) Data Exploration and Pre-processing\n",
    "i. Images (png files) and labels (json files) are organized in the data directory\n",
    "by \\subframes.\" Subframes are individual 5120x5120 pixel images which are\n",
    "crops of the original HiRISE images (often on the order of 50k x 10k pixels).\n",
    "Individual subframes were annotated by the contributors and then sliced into\n",
    "299x299 \\tiles.\" Each tile has an associated label for use in training ML\n",
    "algorithms.\n",
    "There are 214 subframes and a total of 119920 tiles. Each tile has annotations\n",
    "which have been used to assign labels to the tiles frost or background.\n",
    "Each JSON file contains all the annotation information collected from human\n",
    "annotators.\n",
    "The following are relevant to the assignment:\n",
    "Image tiles are organized into folders of background and frost classes (bi-\n",
    "nary). For the purpose of the final project, individual tiles shall serve as the\n",
    "data points which need to be classified using binary classification.\n",
    "\n",
    "ii. The dataset includes files for splitting the data into train, test and validation.\n",
    "However, you will be provided by an improved version of those files when a\n",
    "repo is created:\n",
    "A. train source images.txt\n",
    "B. test source images.txt\n",
    "C. val source images.txt\n",
    "\n",
    "\n",
    "iii. Each of these files contains the IDs of the high rise images (parent folders for\n",
    "the subframes and tiles)."
   ]
  },
  {
   "cell_type": "code",
   "execution_count": null,
   "id": "6073c3e3",
   "metadata": {},
   "outputs": [],
   "source": [
    "def split_data(source_file, input_data_dir, output_data_dir):\n",
    "    with open(source_file, 'r') as file:\n",
    "        image_ids = file.read().splitlines()\n",
    "\n",
    "    for image_id in image_ids:\n",
    "        \n",
    "        for root, dirs, files in os.walk(os.path.join(input_data_dir)):\n",
    "            \n",
    "            for folder in dirs:\n",
    "                if folder.startswith(image_id):\n",
    "                    source_tiles_dir = root + folder + '/'+'tiles'\n",
    "                    frost_folder = source_tiles_dir +'/'+'frost'\n",
    "                    if os.path.exists(frost_folder):\n",
    "                        dest_dir = output_data_dir + 'frost'\n",
    "                        if not os.path.exists(dest_dir):\n",
    "                            os.makedirs(dest_dir, exist_ok=True)\n",
    "\n",
    "                        for file in os.listdir(frost_folder):\n",
    "                            source_file_path = os.path.join(frost_folder, file)\n",
    "                            dest_file_path = os.path.join(dest_dir, file)\n",
    "                            shutil.copyfile(source_file_path, dest_file_path)\n",
    "                    \n",
    "                    background_folder = os.path.join(source_tiles_dir, 'background')\n",
    "                    if os.path.exists(background_folder):\n",
    "                        dest_dir = os.path.join(output_data_dir, 'background')\n",
    "                        if not os.path.exists(dest_dir):\n",
    "                            os.makedirs(dest_dir, exist_ok=True)\n",
    "\n",
    "                        for file in os.listdir(background_folder):\n",
    "                            source_file_path = os.path.join(background_folder, file)\n",
    "                            dest_file_path = os.path.join(dest_dir, file)\n",
    "                            shutil.copyfile(source_file_path, dest_file_path)\n",
    "\n",
    "\n",
    "input_data_directory = '../data/'\n",
    "output_train_directory = '../splittedDataset/training_data/'\n",
    "output_test_directory = '../splittedDataset/testing_data/'\n",
    "output_val_directory = '../splittedDataset/validation_data/'\n",
    "\n",
    "train_source_file = '../train_source_images.txt'\n",
    "test_source_file = '../test_source_images.txt'\n",
    "val_source_file = '../val_source_images.txt'\n",
    "\n",
    "split_data(train_source_file, input_data_directory, output_train_directory)\n",
    "split_data(test_source_file, input_data_directory, output_test_directory)\n",
    "split_data(val_source_file, input_data_directory, output_val_directory)"
   ]
  },
  {
   "cell_type": "markdown",
   "id": "3153a6c4",
   "metadata": {},
   "source": [
    "#### Training CNN + MLP"
   ]
  },
  {
   "cell_type": "markdown",
   "id": "c5a145e6",
   "metadata": {},
   "source": [
    "#### i. To perform empirical regularization, crop, randomly zoom, rotate,flip, contrast, and translate images in your training set for image augmentation. You can use various tools to do this, including OpenCV."
   ]
  },
  {
   "cell_type": "code",
   "execution_count": 15,
   "id": "de7b2fa1",
   "metadata": {},
   "outputs": [
    {
     "name": "stdout",
     "output_type": "stream",
     "text": [
      "Found 29679 images belonging to 2 classes.\n"
     ]
    }
   ],
   "source": [
    "\n",
    "augmentation_params = {\n",
    "    'rotation_range': 90,\n",
    "    'width_shift_range': 0.2,\n",
    "    'height_shift_range': 0.2,\n",
    "    'brightness_range': [0.2, 1.0],\n",
    "    'shear_range': 0.2,\n",
    "    'zoom_range': 0.2,\n",
    "    'horizontal_flip': True\n",
    "}\n",
    "\n",
    "trainData_IDG = ImageDataGenerator(**augmentation_params, preprocessing_function=preprocess_input)\n",
    "valData_IDG = ImageDataGenerator(preprocessing_function=preprocess_input)\n",
    "testData_IDG = ImageDataGenerator(preprocessing_function=preprocess_input)\n",
    "\n",
    "def IDGgenerator(_IDG, path, size, batchSize, classMode, isTest):\n",
    "    shuffleData = not isTest\n",
    "    return _IDG.flow_from_directory(\n",
    "        path,\n",
    "        target_size=size,\n",
    "        batch_size=batchSize,\n",
    "        class_mode=classMode,\n",
    "        shuffle=shuffleData\n",
    "    )\n",
    "\n",
    "target_size = (229, 229)\n",
    "batch_size = 32\n",
    "class_mode = 'categorical'\n",
    "\n",
    "trainGenerator = IDGgenerator(trainData_IDG, output_train_directory, target_size, batch_size, class_mode, isTest=False)\n"
   ]
  },
  {
   "cell_type": "code",
   "execution_count": 4,
   "id": "69af172c",
   "metadata": {},
   "outputs": [
    {
     "name": "stdout",
     "output_type": "stream",
     "text": [
      "Found 11286 images belonging to 2 classes.\n"
     ]
    }
   ],
   "source": [
    "validationGenerator = IDGgenerator(valData_IDG, output_val_directory, targetSize, batchSize, classMode, isTest=False)"
   ]
  },
  {
   "cell_type": "markdown",
   "id": "924059fb",
   "metadata": {},
   "source": [
    "#### ii. Train a three-layer CNN followed by a dense layer on the data. Choose the size of the kernels and depth of the layers and the number of neurons in the dense layer (MLP) on your own. Use ReLU's in all of the layers. Use the softmax function, batch normalization3 and a dropout rate of 30%, L2 regularization, as well as ADAM optimizer. Use cross entropy loss. Train for at least 20 epochs and perform early stopping using the validation set. Keep the network parameters that have the lowest validation error. Plot the training and validation errors vs. epochs."
   ]
  },
  {
   "cell_type": "code",
   "execution_count": 8,
   "id": "c27211c4",
   "metadata": {},
   "outputs": [
    {
     "name": "stdout",
     "output_type": "stream",
     "text": [
      "Epoch 1/20\n",
      "927/927 [==============================] - ETA: 0s - loss: 1.0072 - accuracy: 0.7395\n",
      "Epoch 00001: val_loss improved from inf to 0.75131, saving model to model_weights_01_0.75.h5\n",
      "927/927 [==============================] - 674s 726ms/step - loss: 1.0072 - accuracy: 0.7395 - val_loss: 0.7513 - val_accuracy: 0.6121\n",
      "Epoch 2/20\n",
      "927/927 [==============================] - ETA: 0s - loss: 0.5506 - accuracy: 0.8016\n",
      "Epoch 00002: val_loss did not improve from 0.75131\n",
      "927/927 [==============================] - 637s 687ms/step - loss: 0.5506 - accuracy: 0.8016 - val_loss: 2.9453 - val_accuracy: 0.3216\n",
      "Epoch 3/20\n",
      "927/927 [==============================] - ETA: 0s - loss: 0.4990 - accuracy: 0.8179\n",
      "Epoch 00003: val_loss did not improve from 0.75131\n",
      "927/927 [==============================] - 626s 676ms/step - loss: 0.4990 - accuracy: 0.8179 - val_loss: 1.6701 - val_accuracy: 0.3284\n",
      "Epoch 4/20\n",
      "927/927 [==============================] - ETA: 0s - loss: 0.4752 - accuracy: 0.8288\n",
      "Epoch 00004: val_loss improved from 0.75131 to 0.69507, saving model to model_weights_04_0.70.h5\n",
      "927/927 [==============================] - 620s 668ms/step - loss: 0.4752 - accuracy: 0.8288 - val_loss: 0.6951 - val_accuracy: 0.7104\n",
      "Epoch 5/20\n",
      "927/927 [==============================] - ETA: 0s - loss: 0.4611 - accuracy: 0.8313\n",
      "Epoch 00005: val_loss did not improve from 0.69507\n",
      "927/927 [==============================] - 620s 669ms/step - loss: 0.4611 - accuracy: 0.8313 - val_loss: 1.7782 - val_accuracy: 0.3229\n",
      "Epoch 6/20\n",
      "927/927 [==============================] - ETA: 0s - loss: 0.4532 - accuracy: 0.8363\n",
      "Epoch 00006: val_loss did not improve from 0.69507\n",
      "927/927 [==============================] - 623s 672ms/step - loss: 0.4532 - accuracy: 0.8363 - val_loss: 1.2162 - val_accuracy: 0.3509\n",
      "Epoch 7/20\n",
      "927/927 [==============================] - ETA: 0s - loss: 0.4434 - accuracy: 0.8402\n",
      "Epoch 00007: val_loss improved from 0.69507 to 0.61953, saving model to model_weights_07_0.62.h5\n",
      "927/927 [==============================] - 621s 670ms/step - loss: 0.4434 - accuracy: 0.8402 - val_loss: 0.6195 - val_accuracy: 0.7340\n",
      "Epoch 8/20\n",
      "927/927 [==============================] - ETA: 0s - loss: 0.4393 - accuracy: 0.8433\n",
      "Epoch 00008: val_loss did not improve from 0.61953\n",
      "927/927 [==============================] - 642s 693ms/step - loss: 0.4393 - accuracy: 0.8433 - val_loss: 0.8284 - val_accuracy: 0.6436\n",
      "Epoch 9/20\n",
      "927/927 [==============================] - ETA: 0s - loss: 0.4362 - accuracy: 0.8416\n",
      "Epoch 00009: val_loss improved from 0.61953 to 0.39917, saving model to model_weights_09_0.40.h5\n",
      "927/927 [==============================] - 638s 688ms/step - loss: 0.4362 - accuracy: 0.8416 - val_loss: 0.3992 - val_accuracy: 0.8521\n",
      "Epoch 10/20\n",
      "927/927 [==============================] - ETA: 0s - loss: 0.4270 - accuracy: 0.8471\n",
      "Epoch 00010: val_loss did not improve from 0.39917\n",
      "927/927 [==============================] - 618s 667ms/step - loss: 0.4270 - accuracy: 0.8471 - val_loss: 0.5469 - val_accuracy: 0.7622\n",
      "Epoch 11/20\n",
      "927/927 [==============================] - ETA: 0s - loss: 0.4257 - accuracy: 0.8468\n",
      "Epoch 00011: val_loss did not improve from 0.39917\n",
      "927/927 [==============================] - 725s 782ms/step - loss: 0.4257 - accuracy: 0.8468 - val_loss: 1.2428 - val_accuracy: 0.3409\n",
      "Epoch 12/20\n",
      "927/927 [==============================] - ETA: 0s - loss: 0.4231 - accuracy: 0.8489\n",
      "Epoch 00012: val_loss did not improve from 0.39917\n",
      "927/927 [==============================] - 664s 716ms/step - loss: 0.4231 - accuracy: 0.8489 - val_loss: 1.3015 - val_accuracy: 0.4403\n",
      "Epoch 13/20\n",
      "927/927 [==============================] - ETA: 0s - loss: 0.4181 - accuracy: 0.8521\n",
      "Epoch 00013: val_loss did not improve from 0.39917\n",
      "927/927 [==============================] - 629s 679ms/step - loss: 0.4181 - accuracy: 0.8521 - val_loss: 0.9326 - val_accuracy: 0.5256\n",
      "Epoch 14/20\n",
      "927/927 [==============================] - ETA: 0s - loss: 0.4173 - accuracy: 0.8521\n",
      "Epoch 00014: val_loss did not improve from 0.39917\n",
      "927/927 [==============================] - 689s 743ms/step - loss: 0.4173 - accuracy: 0.8521 - val_loss: 0.7594 - val_accuracy: 0.6104\n"
     ]
    }
   ],
   "source": [
    "import warnings\n",
    "warnings.filterwarnings(\"ignore\", category=DeprecationWarning)\n",
    "\n",
    "model = models.Sequential()\n",
    "\n",
    "model.add(layers.Conv2D(8, (3, 3), input_shape=(299, 299, 3), kernel_regularizer=regularizers.l2(0.001)))\n",
    "model.add(layers.Activation('relu'))\n",
    "model.add(layers.BatchNormalization())\n",
    "model.add(layers.MaxPooling2D((2, 2)))\n",
    "\n",
    "model.add(layers.Conv2D(16, (3, 3), kernel_regularizer=regularizers.l2(0.001)))\n",
    "model.add(layers.Activation('relu'))\n",
    "model.add(layers.BatchNormalization())\n",
    "model.add(layers.MaxPooling2D((2, 2)))\n",
    "\n",
    "model.add(layers.Conv2D(32, (3, 3), kernel_regularizer=regularizers.l2(0.001)))\n",
    "model.add(layers.Activation('relu'))\n",
    "model.add(layers.BatchNormalization())\n",
    "model.add(layers.MaxPooling2D((2, 2)))\n",
    "model.add(layers.Dropout(0.3))\n",
    "\n",
    "model.add(layers.Flatten())\n",
    "model.add(layers.Dense(64, activation='relu', kernel_regularizer=regularizers.l2(0.001)))\n",
    "model.add(layers.Dropout(0.3))\n",
    "\n",
    "model.add(layers.Dense(2, activation='softmax')) \n",
    "\n",
    "model.compile(optimizer='adam',\n",
    "              loss='categorical_crossentropy',\n",
    "              metrics=['accuracy'])\n",
    "\n",
    "\n",
    "checkpoint_callback = ModelCheckpoint(\n",
    "    filepath='../models/model_weights_{epoch:02d}_{val_loss:.2f}.h5',  \n",
    "    save_best_only=True, \n",
    "    save_weights_only=True, \n",
    "    monitor='val_loss',  \n",
    "    mode='min', \n",
    "    verbose=1\n",
    ")\n",
    "\n",
    "early_stopping = callbacks.EarlyStopping(monitor='val_loss', patience=9, restore_best_weights=True)\n",
    "\n",
    "stepsPerEpoch=train_generator.samples // train_generator.batch_size\n",
    "validationSteps=validation_generator.samples // validation_generator.batch_size\n",
    "\n",
    "history = model.fit(\n",
    "    trainGenerator,\n",
    "    steps_per_epoch=steps_per_epoch,\n",
    "    epochs=20,\n",
    "    validation_data=validationGenerator,\n",
    "    validation_steps=validationSteps,\n",
    "    callbacks=[early_stopping, checkpoint_callback]\n",
    ")\n",
    "\n",
    "model.save('../models/CNN-model.h5')"
   ]
  },
  {
   "cell_type": "markdown",
   "id": "53ce8546",
   "metadata": {},
   "source": [
    "#### In the training of our CNN-MLP model, we observe the significant impact of early stopping. Instead of completing the originally planned 20 training iterations (epochs), the training was halted after only 14 iterations. This behavior is attributed to the early stopping mechanism integrated into the training process.\n",
    "\n",
    "#### Now, Plotting the training and validation errors vs. epochs as follows:\n"
   ]
  },
  {
   "cell_type": "code",
   "execution_count": 11,
   "id": "7b7c4695",
   "metadata": {},
   "outputs": [
    {
     "data": {
      "image/png": "[encoded data removed]",
      "text/plain": [
       "<Figure size 640x480 with 1 Axes>"
      ]
     },
     "metadata": {},
     "output_type": "display_data"
    }
   ],
   "source": [
    "def plot_loss(history):\n",
    "    train_loss = history.history['loss']\n",
    "    val_loss = history.history['val_loss']\n",
    "\n",
    "    epochs = range(1, len(train_loss) + 1)\n",
    "    plt.plot(epochs, train_loss, 'r', label='Training Loss')\n",
    "    plt.plot(epochs, val_loss, 'b', label='Validation Loss')\n",
    "    plt.title('Training and Validation Loss')\n",
    "    plt.xlabel('Epochs')\n",
    "    plt.ylabel('Loss')\n",
    "    plt.legend()\n",
    "    plt.show()\n",
    "\n",
    "plot_loss(history)"
   ]
  },
  {
   "cell_type": "markdown",
   "id": "fd5ab25e",
   "metadata": {},
   "source": [
    "#### iii. Report Precision, Recall, and F1 score for your model."
   ]
  },
  {
   "cell_type": "code",
   "execution_count": 12,
   "id": "6cd3961e",
   "metadata": {},
   "outputs": [
    {
     "name": "stdout",
     "output_type": "stream",
     "text": [
      "Found 29679 images belonging to 2 classes.\n"
     ]
    }
   ],
   "source": [
    "testGenerator = IDGgenerator(testData_IDG, output_test_directory, targetSize, batchSize, classMode, isTest=False)"
   ]
  },
  {
   "cell_type": "code",
   "execution_count": 13,
   "id": "7ffae641",
   "metadata": {},
   "outputs": [
    {
     "name": "stdout",
     "output_type": "stream",
     "text": [
      "              precision    recall  f1-score   support\n",
      "\n",
      "  background       0.42      0.37      0.39     12235\n",
      "       frost       0.59      0.64      0.61     17444\n",
      "\n",
      "    accuracy                           0.53     29679\n",
      "   macro avg       0.50      0.50      0.50     29679\n",
      "weighted avg       0.52      0.53      0.52     29679\n",
      "\n"
     ]
    }
   ],
   "source": [
    "def evaluate_model(model, test_generator):\n",
    "    y_pred_test = model.predict(test_generator)\n",
    "    y_pred_classes_test = y_pred_test.argmax(axis=1)\n",
    "\n",
    "    y_true_test = test_generator.classes\n",
    "\n",
    "    report_test = classification_report(\n",
    "        y_true_test,\n",
    "        y_pred_classes_test,\n",
    "        target_names=test_generator.class_indices.keys()\n",
    "    )\n",
    "\n",
    "    return report_test\n",
    "\n",
    "report = evaluate_model(model, testGenerator)\n",
    "print(report)"
   ]
  },
  {
   "cell_type": "markdown",
   "id": "ed7331ac",
   "metadata": {},
   "source": [
    "### (d) Transfer Learning\n"
   ]
  },
  {
   "cell_type": "markdown",
   "id": "08f1fa03",
   "metadata": {},
   "source": [
    "\n",
    "#### i. When dealing with classification of relatively small image datasets, deep networks may not perform very well because of not having enough data to train them. In such cases, one usually uses transfer learning, which uses deep learning models that are trained on very large datasets such as ImageNet as feature extractors. The idea is that such deep networks have learned to extract meaningful features from an image using their layers, and those features can be used in learning other tasks. In order to do that, usually the last layer or the last few layers of the pre-trained network are removed, and the response of the layer before the removed layers to the images in the new dataset is used as a feature vector to train one more multiple replacement layers. In this project, you will use pre-trained models (EfficientNetB0, ResNet50, and VGG16). For these pre-trained networks, you will only train the last fully connected layer, and will freeze all layers before them (i.e. we do not change their parameters during training) and use the outputs of the penultimate layer in the original pre-trained model as the features extracted from each image."
   ]
  },
  {
   "cell_type": "code",
   "execution_count": 2,
   "id": "6b4a2c71",
   "metadata": {},
   "outputs": [],
   "source": [
    "# This addLayers function will be used by EfficientNetB0, ResNet50, and VGG16\n",
    "\n",
    "def addLayers(baseModel):\n",
    "    kernelInitializer = 'he_normal'\n",
    "    unitDim1, unitDim2 = 1024, 2\n",
    "    dropOutVal = 0.3\n",
    "    \n",
    "    model = Sequential()\n",
    "    \n",
    "    model.add(baseModel)\n",
    "    \n",
    "    model.add(Flatten())\n",
    "  \n",
    "    model.add(Dense(unitDim1, kernel_initializer=kernelInitializer))\n",
    "    model.add(BatchNormalization())\n",
    "    model.add(Activation('relu'))\n",
    "    model.add(Dropout(dropOutVal))\n",
    "    \n",
    "    model.add(Dense(unitDim2,activation='softmax'))\n",
    "    \n",
    "    return model"
   ]
  },
  {
   "cell_type": "markdown",
   "id": "1b32feba",
   "metadata": {},
   "source": [
    "#### ii. To perform empirical regularization, crop, randomly zoom, rotate, flip, contrast, and translate images in your training set for image augmentation. You can use various tools to do this, including OpenCV."
   ]
  },
  {
   "cell_type": "code",
   "execution_count": 5,
   "id": "63cdc494",
   "metadata": {},
   "outputs": [
    {
     "name": "stdout",
     "output_type": "stream",
     "text": [
      "Found 29679 images belonging to 2 classes.\n",
      "Found 11286 images belonging to 2 classes.\n",
      "Found 12823 images belonging to 2 classes.\n"
     ]
    }
   ],
   "source": [
    "def create_data_generators(rotation_range, width_shift_range, height_shift_range,\n",
    "                           shear_range, zoom_range, brightness_range, horizontal_flip,\n",
    "                           output_train_directory, output_val_directory, output_test_directory,\n",
    "                           preprocess_input, target_size=(229, 229), batch_size=5, class_mode='categorical'):\n",
    "\n",
    "    trainData_IDG = ImageDataGenerator(rotation_range=rotation_range,\n",
    "                                       width_shift_range=width_shift_range,\n",
    "                                       height_shift_range=height_shift_range,\n",
    "                                       shear_range=shear_range,\n",
    "                                       zoom_range=zoom_range,\n",
    "                                       brightness_range=brightness_range,\n",
    "                                       horizontal_flip=horizontal_flip,\n",
    "                                       preprocessing_function=preprocess_input)\n",
    "\n",
    "    valData_IDG = ImageDataGenerator(preprocessing_function=preprocess_input)\n",
    "    testData_IDG = ImageDataGenerator(preprocessing_function=preprocess_input)\n",
    "\n",
    "    def IDGgenerator(_IDG, path, size, batchSize, classMode, isTest):\n",
    "        shuffle_data = not isTest\n",
    "        return _IDG.flow_from_directory(path,\n",
    "                                        target_size=size,\n",
    "                                        batch_size=batchSize,\n",
    "                                        class_mode=classMode,\n",
    "                                        shuffle=shuffle_data)\n",
    "\n",
    "    trainImageData = IDGgenerator(trainData_IDG, output_train_directory, target_size, batch_size, class_mode, isTest=False)\n",
    "    valImageData = IDGgenerator(valData_IDG, output_val_directory, target_size, batch_size, class_mode, isTest=False)\n",
    "    testImageData = IDGgenerator(testData_IDG, output_test_directory, target_size, batch_size, class_mode, isTest=True)\n",
    "\n",
    "    return trainImageData, valImageData, testImageData\n",
    "\n",
    "rotationRange = 90\n",
    "widthShiftRange = 0.2\n",
    "heightShiftRange = 0.2\n",
    "brightnessRange = [0.2, 1.0]\n",
    "shearRange = 0.2\n",
    "zoomRange = 0.2\n",
    "horizontalFlip = True\n",
    "\n",
    "output_train_directory = '../splittedDataset/training_data/'\n",
    "output_test_directory = '../splittedDataset/testing_data/'\n",
    "output_val_directory = '../splittedDataset/validation_data/'\n",
    "\n",
    "trainImageData, valImageData, testImageData = create_data_generators(rotationRange, widthShiftRange, heightShiftRange,\n",
    "                                                                     shearRange, zoomRange, brightnessRange,\n",
    "                                                                     horizontalFlip, output_train_directory,\n",
    "                                                                     output_val_directory, output_test_directory,\n",
    "                                                                     preprocess_input)"
   ]
  },
  {
   "cell_type": "markdown",
   "id": "3d2cf871",
   "metadata": {},
   "source": [
    "#### iii. Use ReLU activation functions in the last layer and a softmax layer, along with batch normalization 5 and a dropout rate of 30% as well as ADAM optimizer. Use cross entropy loss. You can try any batch size, but a batch size of 5 seems reasonable.\n",
    "\n",
    "#### iv. Train using the features calculated by networks (EfficientNetB0, ResNet50, and VGG16) for at least 10 epochs (preferably 20 epochs) and perform early stopping using the validation set. Keep the network parameters that have the lowest validation error. Plot the training and validation errors vs. epochs.\n",
    "\n",
    "#### v. Report Precision, Recall, and F1 score for your model."
   ]
  },
  {
   "cell_type": "code",
   "execution_count": 6,
   "id": "a86942b0",
   "metadata": {},
   "outputs": [],
   "source": [
    "def get_optimizer_loss_metrics():\n",
    "    optimizerAdams = tf.keras.optimizers.Adam(0.00001)\n",
    "    lossCategoricalCrossEntropy = 'categorical_crossentropy'\n",
    "    evalMetrics = ['accuracy']\n",
    "    return optimizerAdams, lossCategoricalCrossEntropy, evalMetrics\n",
    "\n",
    "optimizerAdams, lossCategoricalCrossEntropy, evalMetrics = get_optimizer_loss_metrics()"
   ]
  },
  {
   "cell_type": "markdown",
   "id": "c31f9d24",
   "metadata": {},
   "source": [
    "### ResNet50 Training"
   ]
  },
  {
   "cell_type": "code",
   "execution_count": 5,
   "id": "588fa2b1",
   "metadata": {},
   "outputs": [
    {
     "name": "stdout",
     "output_type": "stream",
     "text": [
      "Model: \"sequential\"\n",
      "_________________________________________________________________\n",
      " Layer (type)                Output Shape              Param #   \n",
      "=================================================================\n",
      " resnet50 (Functional)       (None, 8, 8, 2048)        23587712  \n",
      "                                                                 \n",
      " flatten (Flatten)           (None, 131072)            0         \n",
      "                                                                 \n",
      " dense (Dense)               (None, 1024)              134218752 \n",
      "                                                                 \n",
      " batch_normalization (BatchN  (None, 1024)             4096      \n",
      " ormalization)                                                   \n",
      "                                                                 \n",
      " activation (Activation)     (None, 1024)              0         \n",
      "                                                                 \n",
      " dropout (Dropout)           (None, 1024)              0         \n",
      "                                                                 \n",
      " dense_1 (Dense)             (None, 2)                 2050      \n",
      "                                                                 \n",
      "=================================================================\n",
      "Total params: 157,812,610\n",
      "Trainable params: 134,222,850\n",
      "Non-trainable params: 23,589,760\n",
      "_________________________________________________________________\n"
     ]
    }
   ],
   "source": [
    "def create_custom_resnet50_model(input_shape=(229, 229, 3)):\n",
    "    base_model = ResNet50(include_top=False, weights=\"imagenet\", input_shape=input_shape)\n",
    "    base_model.trainable = False\n",
    "    custom_model = addLayers(base_model) \n",
    "    custom_model.summary()\n",
    "    return custom_model\n",
    "\n",
    "modelN_ResNet50 = create_custom_resnet50_model()"
   ]
  },
  {
   "cell_type": "code",
   "execution_count": 6,
   "id": "93da5148",
   "metadata": {},
   "outputs": [
    {
     "name": "stdout",
     "output_type": "stream",
     "text": [
      "Epoch 1/11\n",
      "5936/5936 [==============================] - 520s 87ms/step - loss: 0.5062 - accuracy: 0.7864 - val_loss: 0.3619 - val_accuracy: 0.8332\n",
      "Epoch 2/11\n",
      "5936/5936 [==============================] - 545s 92ms/step - loss: 0.4274 - accuracy: 0.8176 - val_loss: 0.3112 - val_accuracy: 0.8498\n",
      "Epoch 3/11\n",
      "5936/5936 [==============================] - 538s 91ms/step - loss: 0.4009 - accuracy: 0.8276 - val_loss: 0.1800 - val_accuracy: 0.9295\n",
      "Epoch 4/11\n",
      "5936/5936 [==============================] - 528s 89ms/step - loss: 0.3831 - accuracy: 0.8359 - val_loss: 0.2347 - val_accuracy: 0.9170\n",
      "Epoch 5/11\n",
      "5936/5936 [==============================] - 533s 90ms/step - loss: 0.3650 - accuracy: 0.8412 - val_loss: 0.1800 - val_accuracy: 0.9322\n",
      "Epoch 6/11\n",
      "5936/5936 [==============================] - 543s 92ms/step - loss: 0.3609 - accuracy: 0.8450 - val_loss: 0.2072 - val_accuracy: 0.9117\n",
      "Epoch 7/11\n",
      "5936/5936 [==============================] - 532s 90ms/step - loss: 0.3505 - accuracy: 0.8493 - val_loss: 0.2735 - val_accuracy: 0.8713\n",
      "Epoch 8/11\n",
      "5936/5936 [==============================] - 543s 91ms/step - loss: 0.3488 - accuracy: 0.8544 - val_loss: 0.1965 - val_accuracy: 0.9295\n",
      "Epoch 9/11\n",
      "5936/5936 [==============================] - 543s 92ms/step - loss: 0.3395 - accuracy: 0.8585 - val_loss: 0.1902 - val_accuracy: 0.9373\n",
      "Epoch 10/11\n",
      "5936/5936 [==============================] - 532s 90ms/step - loss: 0.3301 - accuracy: 0.8610 - val_loss: 0.1991 - val_accuracy: 0.9292\n",
      "Epoch 11/11\n",
      "5936/5936 [==============================] - 531s 89ms/step - loss: 0.3302 - accuracy: 0.8600 - val_loss: 0.2022 - val_accuracy: 0.9238\n"
     ]
    }
   ],
   "source": [
    "def compile_and_train_resnet50(model, optimizer, loss, metrics, train_data, val_data, num_epochs=11, patience=14):\n",
    "    model.compile(optimizer=optimizer, loss=loss, metrics=metrics)\n",
    "\n",
    "    with warnings.catch_warnings():\n",
    "        warnings.simplefilter(\"ignore\")\n",
    "\n",
    "        # Defining early stopping callbacks\n",
    "        callback = tf.keras.callbacks.EarlyStopping(monitor='loss', patience=patience)\n",
    "\n",
    "        # Fitting the model\n",
    "        history = model.fit(train_data, epochs=num_epochs, validation_data=val_data, callbacks=[callback])\n",
    "\n",
    "        # Save the model\n",
    "        model.save('../models/modelN_ResNet50.h5')\n",
    "\n",
    "    return history,model\n",
    "\n",
    "history_ResNet50,modelN_ResNet50 = compile_and_train_resnet50(modelN_ResNet50, optimizerAdams, lossCategoricalCrossEntropy, evalMetrics, trainImageData, valImageData)\n"
   ]
  },
  {
   "cell_type": "markdown",
   "id": "0a84b1b6",
   "metadata": {},
   "source": [
    "#### Showing precision, recall and f1-score for  ResNet50 "
   ]
  },
  {
   "cell_type": "code",
   "execution_count": 7,
   "id": "6927a7ae",
   "metadata": {},
   "outputs": [
    {
     "name": "stdout",
     "output_type": "stream",
     "text": [
      "              precision    recall  f1-score   support\n",
      "\n",
      "           0       0.61      0.87      0.72      4418\n",
      "           1       0.91      0.71      0.80      8405\n",
      "\n",
      "    accuracy                           0.76     12823\n",
      "   macro avg       0.76      0.79      0.76     12823\n",
      "weighted avg       0.81      0.76      0.77     12823\n",
      "\n"
     ]
    }
   ],
   "source": [
    "with warnings.catch_warnings():\n",
    "    warnings.filterwarnings(\"ignore\")\n",
    "    \n",
    "    modelN_ResNet50.evaluate(testImageData, verbose=10)\n",
    "    predictModel_ResNet50 = modelN_ResNet50.predict(testImageData)\n",
    "    yPred_ResNet50 = np.argmax(predictModel_ResNet50, axis=-1)\n",
    "    testLabels_ResNet50 = testImageData.classes \n",
    "\n",
    "    print(classification_report(testLabels_ResNet50, yPred_ResNet50))"
   ]
  },
  {
   "cell_type": "markdown",
   "id": "d7cf3aa6",
   "metadata": {},
   "source": [
    "#### Plotting the training and validation loss vs epochs\n",
    "\n",
    "The X-axis shows the number of epochs\n",
    "\n",
    "The Y-axis shows values for loss and accuracy"
   ]
  },
  {
   "cell_type": "code",
   "execution_count": 8,
   "id": "7ea6b438",
   "metadata": {},
   "outputs": [
    {
     "data": {
      "image/png": "[encoded data removed]",
      "text/plain": [
       "<Figure size 800x500 with 1 Axes>"
      ]
     },
     "metadata": {},
     "output_type": "display_data"
    }
   ],
   "source": [
    "def showPlot():\n",
    "    pd.DataFrame(history_ResNet50.history).plot(figsize=(8,5))\n",
    "    plt.show()\n",
    "\n",
    "showPlot()"
   ]
  },
  {
   "cell_type": "markdown",
   "id": "b3f98933",
   "metadata": {},
   "source": [
    "### EfficientNetB0 Training"
   ]
  },
  {
   "cell_type": "code",
   "execution_count": 4,
   "id": "7aec13fe",
   "metadata": {},
   "outputs": [
    {
     "name": "stdout",
     "output_type": "stream",
     "text": [
      "Model: \"sequential_1\"\n",
      "_________________________________________________________________\n",
      " Layer (type)                Output Shape              Param #   \n",
      "=================================================================\n",
      " efficientnetb0 (Functional)  (None, 8, 8, 1280)       4049571   \n",
      "                                                                 \n",
      " flatten_1 (Flatten)         (None, 81920)             0         \n",
      "                                                                 \n",
      " dense_2 (Dense)             (None, 1024)              83887104  \n",
      "                                                                 \n",
      " batch_normalization_1 (Batc  (None, 1024)             4096      \n",
      " hNormalization)                                                 \n",
      "                                                                 \n",
      " activation_1 (Activation)   (None, 1024)              0         \n",
      "                                                                 \n",
      " dropout_1 (Dropout)         (None, 1024)              0         \n",
      "                                                                 \n",
      " dense_3 (Dense)             (None, 2)                 2050      \n",
      "                                                                 \n",
      "=================================================================\n",
      "Total params: 87,942,821\n",
      "Trainable params: 83,891,202\n",
      "Non-trainable params: 4,051,619\n",
      "_________________________________________________________________\n"
     ]
    }
   ],
   "source": [
    "def create_custom_efficientnetb0_model(input_shape=(229, 229, 3)):\n",
    "    base_model = EfficientNetB0(include_top=False, weights=\"imagenet\", input_shape=input_shape)\n",
    "    base_model.trainable = False\n",
    "\n",
    "    custom_model = addLayers(base_model)  \n",
    "\n",
    "    custom_model.summary()\n",
    "\n",
    "    return custom_model\n",
    "\n",
    "modelN_EfficientNetB0 = create_custom_efficientnetb0_model()"
   ]
  },
  {
   "cell_type": "code",
   "execution_count": 7,
   "id": "ef1974e1",
   "metadata": {},
   "outputs": [
    {
     "name": "stdout",
     "output_type": "stream",
     "text": [
      "Epoch 1/11\n",
      "5936/5936 [==============================] - 462s 76ms/step - loss: 0.5310 - accuracy: 0.7657 - val_loss: 0.2580 - val_accuracy: 0.8929\n",
      "Epoch 2/11\n",
      "5936/5936 [==============================] - 493s 83ms/step - loss: 0.4602 - accuracy: 0.7966 - val_loss: 0.3239 - val_accuracy: 0.8800\n",
      "Epoch 3/11\n",
      "5936/5936 [==============================] - 482s 81ms/step - loss: 0.4360 - accuracy: 0.8073 - val_loss: 0.1962 - val_accuracy: 0.9275\n",
      "Epoch 4/11\n",
      "5936/5936 [==============================] - 485s 82ms/step - loss: 0.4129 - accuracy: 0.8195 - val_loss: 0.1859 - val_accuracy: 0.9313\n",
      "Epoch 5/11\n",
      "5936/5936 [==============================] - 506s 85ms/step - loss: 0.4022 - accuracy: 0.8240 - val_loss: 0.1974 - val_accuracy: 0.9259\n",
      "Epoch 6/11\n",
      "5936/5936 [==============================] - 490s 83ms/step - loss: 0.3916 - accuracy: 0.8328 - val_loss: 0.1672 - val_accuracy: 0.9452\n",
      "Epoch 7/11\n",
      "5936/5936 [==============================] - 492s 83ms/step - loss: 0.3920 - accuracy: 0.8311 - val_loss: 0.1881 - val_accuracy: 0.9293\n",
      "Epoch 8/11\n",
      "5936/5936 [==============================] - 512s 86ms/step - loss: 0.3807 - accuracy: 0.8359 - val_loss: 0.1937 - val_accuracy: 0.9346\n",
      "Epoch 9/11\n",
      "5936/5936 [==============================] - 486s 82ms/step - loss: 0.3762 - accuracy: 0.8374 - val_loss: 0.2032 - val_accuracy: 0.9247\n",
      "Epoch 10/11\n",
      "5936/5936 [==============================] - 491s 83ms/step - loss: 0.3725 - accuracy: 0.8370 - val_loss: 0.1475 - val_accuracy: 0.9551\n",
      "Epoch 11/11\n",
      "5936/5936 [==============================] - 497s 84ms/step - loss: 0.3674 - accuracy: 0.8399 - val_loss: 0.2084 - val_accuracy: 0.9260\n"
     ]
    }
   ],
   "source": [
    "def train_and_save_model(model, optimizer, loss, metrics, train_data, val_data, num_epochs=11):\n",
    "    model.compile(optimizer=optimizer, loss=loss, metrics=metrics)\n",
    "\n",
    "    with warnings.catch_warnings():\n",
    "        warnings.simplefilter(\"ignore\")\n",
    "        \n",
    "        callback = tf.keras.callbacks.EarlyStopping(monitor='loss', patience=14)\n",
    "\n",
    "        history = model.fit(train_data, epochs=num_epochs, validation_data=val_data, callbacks=[callback])\n",
    "\n",
    "        model.save('../models/modelN_EfficientNetB0.h5')\n",
    "\n",
    "    return history,model\n",
    "\n",
    "\n",
    "history_EfficientNetB0,modelN_EfficientNetB0 = train_and_save_model(modelN_EfficientNetB0, optimizerAdams, lossCategoricalCrossEntropy, evalMetrics, trainImageData, valImageData)\n"
   ]
  },
  {
   "cell_type": "markdown",
   "id": "1e11bead",
   "metadata": {},
   "source": [
    "#### Showing precision, recall and f1-score for EfficientNetB0"
   ]
  },
  {
   "cell_type": "code",
   "execution_count": 8,
   "id": "79cde448",
   "metadata": {},
   "outputs": [
    {
     "name": "stdout",
     "output_type": "stream",
     "text": [
      "              precision    recall  f1-score   support\n",
      "\n",
      "           0       0.84      0.90      0.87      4418\n",
      "           1       0.94      0.91      0.93      8405\n",
      "\n",
      "    accuracy                           0.91     12823\n",
      "   macro avg       0.89      0.90      0.90     12823\n",
      "weighted avg       0.91      0.91      0.91     12823\n",
      "\n"
     ]
    }
   ],
   "source": [
    "with warnings.catch_warnings():\n",
    "    warnings.filterwarnings(\"ignore\")\n",
    "    \n",
    "    modelN_EfficientNetB0.evaluate(testImageData, verbose=10)\n",
    "\n",
    "    predictModel_EfficientNetB0 = modelN_EfficientNetB0.predict(testImageData)\n",
    "\n",
    "    yPred_EfficientNetB0 = np.argmax(predictModel_EfficientNetB0, axis=-1)\n",
    "\n",
    "    testLabels_EfficientNetB0 = testImageData.classes \n",
    "\n",
    "    print(classification_report(testLabels_EfficientNetB0, yPred_EfficientNetB0))"
   ]
  },
  {
   "cell_type": "markdown",
   "id": "258cace6",
   "metadata": {},
   "source": [
    "#### Plotting the training and validation loss vs epochs\n",
    "\n",
    "The X-axis shows the number of epochs\n",
    "\n",
    "The Y-axis shows values for loss and accuracy"
   ]
  },
  {
   "cell_type": "code",
   "execution_count": 9,
   "id": "3bb43c7a",
   "metadata": {},
   "outputs": [
    {
     "data": {
      "image/png": "[encoded data removed]",
      "text/plain": [
       "<Figure size 800x500 with 1 Axes>"
      ]
     },
     "metadata": {},
     "output_type": "display_data"
    }
   ],
   "source": [
    "def showPlot():\n",
    "    pd.DataFrame(history_EfficientNetB0.history).plot(figsize=(8,5))\n",
    "    plt.show()\n",
    "    \n",
    "showPlot()"
   ]
  },
  {
   "cell_type": "markdown",
   "id": "37d60886",
   "metadata": {},
   "source": [
    "### VGG16 training"
   ]
  },
  {
   "cell_type": "code",
   "execution_count": 10,
   "id": "0cca3e14",
   "metadata": {},
   "outputs": [
    {
     "name": "stdout",
     "output_type": "stream",
     "text": [
      "Downloading data from https://storage.googleapis.com/tensorflow/keras-applications/vgg16/vgg16_weights_tf_dim_ordering_tf_kernels_notop.h5\n",
      "58892288/58889256 [==============================] - 2s 0us/step\n",
      "58900480/58889256 [==============================] - 2s 0us/step\n",
      "Model: \"sequential_2\"\n",
      "_________________________________________________________________\n",
      " Layer (type)                Output Shape              Param #   \n",
      "=================================================================\n",
      " vgg16 (Functional)          (None, 7, 7, 512)         14714688  \n",
      "                                                                 \n",
      " flatten_2 (Flatten)         (None, 25088)             0         \n",
      "                                                                 \n",
      " dense_4 (Dense)             (None, 1024)              25691136  \n",
      "                                                                 \n",
      " batch_normalization_2 (Batc  (None, 1024)             4096      \n",
      " hNormalization)                                                 \n",
      "                                                                 \n",
      " activation_2 (Activation)   (None, 1024)              0         \n",
      "                                                                 \n",
      " dropout_2 (Dropout)         (None, 1024)              0         \n",
      "                                                                 \n",
      " dense_5 (Dense)             (None, 2)                 2050      \n",
      "                                                                 \n",
      "=================================================================\n",
      "Total params: 40,411,970\n",
      "Trainable params: 25,695,234\n",
      "Non-trainable params: 14,716,736\n",
      "_________________________________________________________________\n"
     ]
    }
   ],
   "source": [
    "def create_custom_vgg16_model(input_shape=(229, 229, 3)):\n",
    "    base_model = VGG16(include_top=False, weights=\"imagenet\", input_shape=input_shape)\n",
    "    base_model.trainable = False\n",
    "    custom_model = addLayers(base_model) \n",
    "    custom_model.summary()\n",
    "\n",
    "    return custom_model\n",
    "\n",
    "modelN_VGG16 = create_custom_vgg16_model()\n"
   ]
  },
  {
   "cell_type": "code",
   "execution_count": 11,
   "id": "6877d372",
   "metadata": {},
   "outputs": [
    {
     "name": "stdout",
     "output_type": "stream",
     "text": [
      "Epoch 1/11\n",
      "5936/5936 [==============================] - 509s 85ms/step - loss: 0.5292 - accuracy: 0.7612 - val_loss: 0.3729 - val_accuracy: 0.8345\n",
      "Epoch 2/11\n",
      "5936/5936 [==============================] - 551s 93ms/step - loss: 0.4729 - accuracy: 0.7861 - val_loss: 0.4014 - val_accuracy: 0.8147\n",
      "Epoch 3/11\n",
      "5936/5936 [==============================] - 556s 94ms/step - loss: 0.4567 - accuracy: 0.7963 - val_loss: 0.3633 - val_accuracy: 0.8268\n",
      "Epoch 4/11\n",
      "5936/5936 [==============================] - 552s 93ms/step - loss: 0.4441 - accuracy: 0.8010 - val_loss: 0.3337 - val_accuracy: 0.8449\n",
      "Epoch 5/11\n",
      "5936/5936 [==============================] - 560s 94ms/step - loss: 0.4332 - accuracy: 0.8079 - val_loss: 0.3678 - val_accuracy: 0.8223\n",
      "Epoch 6/11\n",
      "5936/5936 [==============================] - 562s 95ms/step - loss: 0.4221 - accuracy: 0.8131 - val_loss: 0.2802 - val_accuracy: 0.8845\n",
      "Epoch 7/11\n",
      "5936/5936 [==============================] - 557s 94ms/step - loss: 0.4162 - accuracy: 0.8170 - val_loss: 0.3414 - val_accuracy: 0.8354\n",
      "Epoch 8/11\n",
      "5936/5936 [==============================] - 561s 95ms/step - loss: 0.4110 - accuracy: 0.8180 - val_loss: 0.2924 - val_accuracy: 0.8690\n",
      "Epoch 9/11\n",
      "5936/5936 [==============================] - 566s 95ms/step - loss: 0.4073 - accuracy: 0.8214 - val_loss: 0.3135 - val_accuracy: 0.8533\n",
      "Epoch 10/11\n",
      "5936/5936 [==============================] - 560s 94ms/step - loss: 0.4040 - accuracy: 0.8237 - val_loss: 0.2896 - val_accuracy: 0.8646\n",
      "Epoch 11/11\n",
      "5936/5936 [==============================] - 563s 95ms/step - loss: 0.4050 - accuracy: 0.8206 - val_loss: 0.3357 - val_accuracy: 0.8355\n"
     ]
    }
   ],
   "source": [
    "def compile_and_fit_model(model, optimizer, loss, metrics, train_data, val_data, num_epochs=11, patience=14):\n",
    "    model.compile(optimizer=optimizer, loss=loss, metrics=metrics)\n",
    "\n",
    "    with warnings.catch_warnings():\n",
    "        warnings.simplefilter(\"ignore\")\n",
    "\n",
    "        callback = tf.keras.callbacks.EarlyStopping(monitor='loss', patience=patience)\n",
    "\n",
    "        history = model.fit(train_data, epochs=num_epochs, validation_data=val_data, callbacks=[callback])\n",
    "        \n",
    "        model.save('../models/modelN_VGG16.h5')\n",
    "        return history,model\n",
    "\n",
    "history_VGG16,modelN_VGG16 = compile_and_fit_model(modelN_VGG16, optimizerAdams, lossCategoricalCrossEntropy, evalMetrics, trainImageData, valImageData)\n"
   ]
  },
  {
   "cell_type": "markdown",
   "id": "c860438c",
   "metadata": {},
   "source": [
    "#### Showing precision, recall and f1-score for VGG16 training"
   ]
  },
  {
   "cell_type": "code",
   "execution_count": 12,
   "id": "11947033",
   "metadata": {},
   "outputs": [
    {
     "name": "stdout",
     "output_type": "stream",
     "text": [
      "              precision    recall  f1-score   support\n",
      "\n",
      "           0       0.69      0.93      0.79      4418\n",
      "           1       0.95      0.78      0.86      8405\n",
      "\n",
      "    accuracy                           0.83     12823\n",
      "   macro avg       0.82      0.85      0.82     12823\n",
      "weighted avg       0.86      0.83      0.83     12823\n",
      "\n"
     ]
    }
   ],
   "source": [
    "with warnings.catch_warnings():\n",
    "    warnings.filterwarnings(\"ignore\")\n",
    "\n",
    "    modelN_VGG16.evaluate(testImageData, verbose=10)\n",
    "\n",
    "    predictModel_VGG16 = modelN_VGG16.predict(testImageData)\n",
    "\n",
    "    yPred_VGG16 = np.argmax(predictModel_VGG16, axis=-1)\n",
    "\n",
    "    testLabels_VGG16 = testImageData.classes \n",
    "\n",
    "    print(classification_report(testLabels_VGG16, yPred_VGG16))"
   ]
  },
  {
   "cell_type": "markdown",
   "id": "7f4422a1",
   "metadata": {},
   "source": [
    "#### Plotting the training and validation loss vs epochs\n",
    "\n",
    "The X-axis shows the number of epochs\n",
    "\n",
    "The Y-axis shows values for loss and accuracy"
   ]
  },
  {
   "cell_type": "code",
   "execution_count": 13,
   "id": "d51cdd77",
   "metadata": {},
   "outputs": [
    {
     "data": {
      "image/png": "[encoded data removed]",
      "text/plain": [
       "<Figure size 800x500 with 1 Axes>"
      ]
     },
     "metadata": {},
     "output_type": "display_data"
    }
   ],
   "source": [
    "def showPlot():\n",
    "    pd.DataFrame(history_VGG16.history).plot(figsize=(8,5))\n",
    "    plt.show()\n",
    "    \n",
    "showPlot()"
   ]
  },
  {
   "cell_type": "markdown",
   "id": "5d761def",
   "metadata": {},
   "source": [
    "#### vi. Compare the results of transfer learning with those of CNN + MLP model and explain them."
   ]
  },
  {
   "cell_type": "markdown",
   "id": "bd1c7a17",
   "metadata": {},
   "source": [
    "Answer-> \n",
    "#### CNN + MLP Model:\n",
    "- **Training Time:** Stopped at 14 epochs due to early stopping.\n",
    "- **Precision, Recall, F1-Score:**\n",
    "  - Background: Precision = 0.42, Recall = 0.37, F1-Score = 0.39\n",
    "  - Frost: Precision = 0.59, Recall = 0.64, F1-Score = 0.61\n",
    "- **Overall Accuracy:** 0.53\n",
    "- **Observations:** The model seems to struggle, with relatively low precision, recall, and F1-score for both classes. The accuracy is also moderate.\n",
    "\n",
    "#### Transfer Learning Models:\n",
    "\n",
    "#### (a) ResNet50:\n",
    "- **Precision, Recall, F1-Score:**\n",
    "  - Background: Precision = 0.61, Recall = 0.87, F1-Score = 0.72\n",
    "  - Frost: Precision = 0.91, Recall = 0.71, F1-Score = 0.80\n",
    "- **Overall Accuracy:** 0.76\n",
    "- **Observations:** ResNet50 performs better than the CNN + MLP model, with improved precision, recall, and F1-score for both classes. The accuracy is also higher.\n",
    "\n",
    "#### (b) EfficientNetB0:\n",
    "- **Precision, Recall, F1-Score:**\n",
    "  - Background: Precision = 0.84, Recall = 0.90, F1-Score = 0.87\n",
    "  - Frost: Precision = 0.94, Recall = 0.91, F1-Score = 0.93\n",
    "- **Overall Accuracy:** 0.91\n",
    "- **Observations:** EfficientNetB0 outperforms both the CNN + MLP model and ResNet50. It demonstrates higher precision, recall, and F1-score for both classes, resulting in a higher overall accuracy.\n",
    "\n",
    "#### (c) VGG16:\n",
    "- **Precision, Recall, F1-Score:**\n",
    "  - Background: Precision = 0.69, Recall = 0.93, F1-Score = 0.79\n",
    "  - Frost: Precision = 0.95, Recall = 0.78, F1-Score = 0.86\n",
    "- **Overall Accuracy:** 0.83\n",
    "- **Observations:** VGG16 also performs well, with higher precision, recall, and F1-score compared to the CNN + MLP model. The accuracy is also improved.\n",
    "\n",
    "\n",
    "#### Overall Comparison:\n",
    "1. Transfer learning models (EfficientNetB0, ResNet50, VGG16) outperform the CNN + MLP model in terms of precision, recall, F1-score, and overall accuracy.\n",
    "2. EfficientNetB0 demonstrates the highest overall accuracy among the transfer learning models.\n",
    "3. VGG16 and ResNet50 also show significant improvements over the CNN + MLP model.\n",
    "4. The choice between EfficientNetB0, ResNet50, and VGG16 may depend on specific requirements and trade-offs in terms of model complexity, computational resources, and task-specific considerations.\n",
    "5. In summary, transfer learning models, especially EfficientNetB0, ResNet50, and VGG16, provide better performance compared to the CNN + MLP model for the given task.\n"
   ]
  },
  {
   "cell_type": "markdown",
   "id": "a14696e4",
   "metadata": {},
   "source": [
    "### References:\n",
    "\n",
    "1. https://www.tensorflow.org/api_docs/python/tf/keras/applications/resnet50/ResNet50\n",
    "2. https://www.tensorflow.org/api_docs/python/tf/keras/applications/vgg16/VGG16\n",
    "3. https://www.tensorflow.org/api_docs/python/tf/keras/applications/efficientnet/EfficientNetB0\n",
    "4. https://stackoverflow.com/questions/63626573/how-to-specify-input-shape-in-conv2d-layer-in-tensor-flow-2-0-keras\n",
    "5. https://stackoverflow.com/questions/46610732/how-to-freeze-some-layers-when-fine-tune-resnet50\n",
    "6. https://www.tensorflow.org/api_docs/python/tf/keras/preprocessing/image/ImageDataGenerator\n",
    "7. https://stackoverflow.com/questions/64709510/replacing-mlp-code-with-cnn-in-python-using-tensorflow-and-keras"
   ]
  }
 ],
 "metadata": {
  "kernelspec": {
   "display_name": "Python 3 (ipykernel)",
   "language": "python",
   "name": "python3"
  },
  "language_info": {
   "codemirror_mode": {
    "name": "ipython",
    "version": 3
   },
   "file_extension": ".py",
   "mimetype": "text/x-python",
   "name": "python",
   "nbconvert_exporter": "python",
   "pygments_lexer": "ipython3",
   "version": "3.8.17"
  }
 },
 "nbformat": 4,
 "nbformat_minor": 5
}
